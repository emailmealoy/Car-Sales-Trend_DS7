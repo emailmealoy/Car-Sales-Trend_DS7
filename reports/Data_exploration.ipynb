{
 "cells": [
  {
   "cell_type": "code",
   "execution_count": 3,
   "metadata": {},
   "outputs": [],
   "source": [
    "# Import libraries\n",
    "import pandas as pd\n",
    "\n",
    "# Load the dataset again\n",
    "file_path = \"../data/processed/Car_Sales_Clean.csv\"\n",
    "df = pd.read_csv(file_path)\n",
    "\n",
    "# Initialize a summary dictionary\n",
    "summary = {}"
   ]
  },
  {
   "cell_type": "code",
   "execution_count": 4,
   "metadata": {},
   "outputs": [
    {
     "name": "stdout",
     "output_type": "stream",
     "text": [
      "Total\tRecords: 23906\n",
      "Total\tColumns: 16\n"
     ]
    }
   ],
   "source": [
    "# 1. Basic Info about the dataset\n",
    "summary['Total_Records'] = len(df)\n",
    "summary['Total_Columns'] = len(df.columns)\n",
    "\n",
    "print(\"Total\tRecords:\", summary['Total_Records'])\n",
    "print(\"Total\tColumns:\", summary['Total_Columns'])"
   ]
  },
  {
   "cell_type": "code",
   "execution_count": 8,
   "metadata": {},
   "outputs": [
    {
     "name": "stdout",
     "output_type": "stream",
     "text": [
      "Date Range: 2022-01-02 to 2023-12-31\n"
     ]
    }
   ],
   "source": [
    "# 2. Date Range\n",
    "df['Date'] = pd.to_datetime(df['purchase_date'], errors='coerce')\n",
    "summary['Date_Range'] = (df['Date'].min().strftime('%Y-%m-%d')\n",
    "                         , df['Date'].max().strftime('%Y-%m-%d'))\n",
    "print(f\"Date Range: {summary['Date_Range'][0]} to {summary['Date_Range'][1]}\")"
   ]
  },
  {
   "cell_type": "code",
   "execution_count": 10,
   "metadata": {},
   "outputs": [
    {
     "name": "stdout",
     "output_type": "stream",
     "text": [
      "Unique Customer Names: 3021 \n",
      "Gender Distribution: {'Male': 18798, 'Female': 5108}\n",
      "count: $23,906\n",
      "mean: $830,840\n",
      "std: $720,006\n",
      "min: $10,080\n",
      "25%: $386,000\n",
      "50%: $735,000\n",
      "75%: $1,175,750\n",
      "max: $11,200,000\n"
     ]
    }
   ],
   "source": [
    "# 3. Customer Information\n",
    "summary['Unique_Customer_Names'] = df['customer_name'].nunique()\n",
    "summary['Gender_Distribution'] = df['gender'].value_counts().to_dict()\n",
    "summary['Annual_Income_Stats'] = df['annual_income'].describe().to_dict()\n",
    "\n",
    "# Convert values to currency format\n",
    "Income_Stats = [f\"{key}: ${int(value):,}\" for key, value in summary['Annual_Income_Stats'].items()]\n",
    "\n",
    "#\tPrint summary of customer information\n",
    "print(\"Unique Customer Names:\", summary['Unique_Customer_Names']\n",
    "      , \"\\nGender Distribution:\", summary['Gender_Distribution'])\n",
    "\n",
    "# Print each item on a new line in currency format\n",
    "for item in Income_Stats:\n",
    "    print(item) "
   ]
  },
  {
   "cell_type": "code",
   "execution_count": 11,
   "metadata": {},
   "outputs": [
    {
     "name": "stdout",
     "output_type": "stream",
     "text": [
      "Unique Companies: 30 \n",
      "Unique Models: 154 \n",
      "Color Count: 3 \n",
      "Body Style Count: 5\n",
      "\n",
      "Engine Types:\n",
      "  - Double Overhead Camshaft: 12571\n",
      "  - Overhead Camshaft: 11335\n",
      "\n",
      "Transmission Types:\n",
      "  - Auto: 12571\n",
      "  - Manual: 11335\n",
      "\n",
      "Body Style Distribution:\n",
      "  - SUV: 6374\n",
      "  - Hatchback: 6128\n",
      "  - Sedan: 4488\n",
      "  - Passenger: 3945\n",
      "  - Hardtop: 2971\n"
     ]
    }
   ],
   "source": [
    "# 4. Vehicle Information\n",
    "summary['Unique Companies'] = df['company'].nunique()\n",
    "summary['Unique Models'] = df['model'].nunique()\n",
    "summary['Engine Types'] = df['engine'].value_counts().to_dict()\n",
    "summary['Transmission Types'] = df['transmission'].value_counts().to_dict()\n",
    "summary['Color Count'] = df['color'].nunique()\n",
    "summary['Body Style Count'] = df['body_style'].nunique()\n",
    "summary['Body Style Distribution'] = df['body_style'].value_counts().to_dict()\n",
    "\n",
    "#\tPrint vehicle information summary\n",
    "print(\"Unique Companies:\", summary['Unique Companies']\n",
    "      ,\t\"\\nUnique Models:\", summary['Unique Models']\n",
    "      ,\t\"\\nColor Count:\", summary['Color Count']\n",
    "      ,\t\"\\nBody Style Count:\", summary['Body Style Count'])\n",
    "\n",
    "#\tPrint Engine Types as a list\n",
    "print(\"\\nEngine Types:\")\n",
    "for engine, count in summary['Engine Types'].items():\n",
    "\t\t\t\tprint(f\"  - {engine}: {count}\")\n",
    "\n",
    "# Print Transmission Types as a list\n",
    "print(\"\\nTransmission Types:\")\n",
    "for transmission, count in summary['Transmission Types'].items():\n",
    "\t\t\t\tprint(f\"  - {transmission}: {count}\")\n",
    "\n",
    "# Print Body Style Distribution as a list\n",
    "print(\"\\nBody Style Distribution:\")\n",
    "for style, count in summary['Body Style Distribution'].items():\n",
    "    print(f\"  - {style}: {count}\")"
   ]
  },
  {
   "cell_type": "code",
   "execution_count": 12,
   "metadata": {},
   "outputs": [
    {
     "name": "stdout",
     "output_type": "stream",
     "text": [
      "Price Range: $1,200.00 to $85,800.00\n"
     ]
    }
   ],
   "source": [
    "# 5. Pricing\n",
    "summary['Price Stats'] = df['price'].describe().to_dict()\n",
    "\n",
    "#print the price range\n",
    "price_range = (summary['Price Stats']['min'], summary['Price Stats']['max'])\n",
    "print(f\"Price Range: ${price_range[0]:,.2f} to ${price_range[1]:,.2f}\") #add commas and two decimal places with currency format"
   ]
  },
  {
   "cell_type": "code",
   "execution_count": 13,
   "metadata": {},
   "outputs": [
    {
     "name": "stdout",
     "output_type": "stream",
     "text": [
      "Unique Dealers: 28 \n",
      "Unique Dealer Numbers: 7 \n",
      "Unique Dealer Regions: 7\n"
     ]
    }
   ],
   "source": [
    "# 6. Dealer Info\n",
    "summary['Unique Dealers'] = df['dealer_name'].nunique()\n",
    "summary['Unique Dealer Numbers'] = df['dealer_no'].nunique()\n",
    "summary['Unique Dealer Regions'] = df['dealer_region'].nunique()\n",
    "\n",
    "#\tPrint dealer information summary\n",
    "print(\"Unique Dealers:\", summary['Unique Dealers']\n",
    "\t\t\t\t\t\t, \"\\nUnique Dealer Numbers:\", summary['Unique Dealer Numbers']\n",
    "\t\t\t\t\t\t, \"\\nUnique Dealer Regions:\", summary['Unique Dealer Regions'])"
   ]
  },
  {
   "cell_type": "code",
   "execution_count": 14,
   "metadata": {},
   "outputs": [
    {
     "data": {
      "text/plain": [
       "{'Total_Records': 23906,\n",
       " 'Total_Columns': 16,\n",
       " 'Date_Range': ('2022-01-02', '2023-12-31'),\n",
       " 'Unique_Customer_Names': 3021,\n",
       " 'Gender_Distribution': {'Male': 18798, 'Female': 5108},\n",
       " 'Annual_Income_Stats': {'count': 23906.0,\n",
       "  'mean': 830840.2851167071,\n",
       "  'std': 720006.3953879011,\n",
       "  'min': 10080.0,\n",
       "  '25%': 386000.0,\n",
       "  '50%': 735000.0,\n",
       "  '75%': 1175750.0,\n",
       "  'max': 11200000.0},\n",
       " 'Unique Companies': 30,\n",
       " 'Unique Models': 154,\n",
       " 'Engine Types': {'Double Overhead Camshaft': 12571,\n",
       "  'Overhead Camshaft': 11335},\n",
       " 'Transmission Types': {'Auto': 12571, 'Manual': 11335},\n",
       " 'Color Count': 3,\n",
       " 'Body Style Count': 5,\n",
       " 'Body Style Distribution': {'SUV': 6374,\n",
       "  'Hatchback': 6128,\n",
       "  'Sedan': 4488,\n",
       "  'Passenger': 3945,\n",
       "  'Hardtop': 2971},\n",
       " 'Price Stats': {'count': 23906.0,\n",
       "  'mean': 28090.247845729107,\n",
       "  'std': 14788.68760775532,\n",
       "  'min': 1200.0,\n",
       "  '25%': 18001.0,\n",
       "  '50%': 23000.0,\n",
       "  '75%': 34000.0,\n",
       "  'max': 85800.0},\n",
       " 'Unique Dealers': 28,\n",
       " 'Unique Dealer Numbers': 7,\n",
       " 'Unique Dealer Regions': 7}"
      ]
     },
     "execution_count": 14,
     "metadata": {},
     "output_type": "execute_result"
    }
   ],
   "source": [
    "summary"
   ]
  }
 ],
 "metadata": {
  "kernelspec": {
   "display_name": "dsi_participant",
   "language": "python",
   "name": "python3"
  },
  "language_info": {
   "codemirror_mode": {
    "name": "ipython",
    "version": 3
   },
   "file_extension": ".py",
   "mimetype": "text/x-python",
   "name": "python",
   "nbconvert_exporter": "python",
   "pygments_lexer": "ipython3",
   "version": "3.9.7"
  }
 },
 "nbformat": 4,
 "nbformat_minor": 2
}
