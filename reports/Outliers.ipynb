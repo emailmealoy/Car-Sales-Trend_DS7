{
 "cells": [
  {
   "cell_type": "code",
   "execution_count": 10,
   "metadata": {},
   "outputs": [
    {
     "name": "stdout",
     "output_type": "stream",
     "text": [
      "          Column         Q1          Q3         IQR  Lower Bound  Upper Bound  \\\n",
      "0  annual_income   386000.0  1175750.00   789750.00   -798625.00   2360375.00   \n",
      "1          price    18001.0    34000.00    15999.00     -5997.50     57998.50   \n",
      "2          phone  6746495.0  8248146.25  1501651.25   4494018.12  10500623.12   \n",
      "\n",
      "   Outlier Count  \n",
      "0            816  \n",
      "1           1449  \n",
      "2              0  \n",
      "\n",
      "All outliers saved to '../data/processed/Car_Sales_All_Outliers.csv'\n"
     ]
    }
   ],
   "source": [
    "import pandas as pd\n",
    "\n",
    "# Load dataset\n",
    "full_data_path = \"../data/processed/Car_Sales_Clean.csv\"\n",
    "df = pd.read_csv(full_data_path)\n",
    "\n",
    "# Exclude phone column from numeric checks\n",
    "numeric_columns = df.select_dtypes(include=['number']).columns\n",
    "numeric_columns = [col for col in numeric_columns if col != 'Phone']\n",
    "\n",
    "# Store summary and all outlier rows\n",
    "outlier_summary = []\n",
    "all_outliers = pd.DataFrame()\n",
    "\n",
    "for col in numeric_columns:\n",
    "    Q1 = df[col].quantile(0.25)\n",
    "    Q3 = df[col].quantile(0.75)\n",
    "    IQR = Q3 - Q1\n",
    "    lower_bound = Q1 - 1.5 * IQR\n",
    "    upper_bound = Q3 + 1.5 * IQR\n",
    "\n",
    "    # Identify outliers\n",
    "    outliers = df[(df[col] < lower_bound) | (df[col] > upper_bound)].copy()\n",
    "    outliers['Outlier_Column'] = col\n",
    "    outliers['Outlier_Value'] = outliers[col]\n",
    "\n",
    "    # Add to summary\n",
    "    outlier_summary.append({\n",
    "        'Column': col,\n",
    "        'Q1': round(Q1, 2),\n",
    "        'Q3': round(Q3, 2),\n",
    "        'IQR': round(IQR, 2),\n",
    "        'Lower Bound': round(lower_bound, 2),\n",
    "        'Upper Bound': round(upper_bound, 2),\n",
    "        'Outlier Count': len(outliers)\n",
    "    })\n",
    "\n",
    "    # Append all outliers\n",
    "    all_outliers = pd.concat([all_outliers, outliers], ignore_index=True)\n",
    "\n",
    "# Save summary and outlier records\n",
    "outlier_summary_df = pd.DataFrame(outlier_summary)\n",
    "outlier_summary_df.to_csv(\"../data/processed/Car_Sales_Outlier_Summary.csv\", index=False)\n",
    "all_outliers.to_csv(\"../data/processed/Car_Sales_All_Outliers.csv\", index=False)\n",
    "\n",
    "# Print results\n",
    "print(outlier_summary_df)\n",
    "print(\"\\nAll outliers saved to '../data/processed/Car_Sales_All_Outliers.csv'\")\n"
   ]
  }
 ],
 "metadata": {
  "kernelspec": {
   "display_name": "dsi_participant",
   "language": "python",
   "name": "python3"
  },
  "language_info": {
   "codemirror_mode": {
    "name": "ipython",
    "version": 3
   },
   "file_extension": ".py",
   "mimetype": "text/x-python",
   "name": "python",
   "nbconvert_exporter": "python",
   "pygments_lexer": "ipython3",
   "version": "3.9.7"
  }
 },
 "nbformat": 4,
 "nbformat_minor": 2
}
