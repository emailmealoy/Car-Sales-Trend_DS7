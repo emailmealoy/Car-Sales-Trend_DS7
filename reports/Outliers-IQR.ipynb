{
 "cells": [
  {
   "cell_type": "code",
   "execution_count": 20,
   "metadata": {},
   "outputs": [
    {
     "name": "stdout",
     "output_type": "stream",
     "text": [
      "\n",
      "=== Outlier Summary by Column ===\n",
      "          Column        Q1         Q3       IQR  Lower Bound  Upper Bound  \\\n",
      "0  annual_income  386000.0  1175750.0  789750.0    -798625.0    2360375.0   \n",
      "1          price   18001.0    34000.0   15999.0      -5997.5      57998.5   \n",
      "\n",
      "   Outlier Count  \n",
      "0            816  \n",
      "1           1449  \n",
      "\n",
      "Saved 'Outlier_Summary.csv' and 'All_Outliers.csv'\n"
     ]
    }
   ],
   "source": [
    "import pandas as pd\n",
    "\n",
    "# Load data\n",
    "df = pd.read_csv(\"../data/processed/Car_Sales_Clean.csv\")\n",
    "\n",
    "# Drop non-numeric or irrelevant columns like 'Phone'\n",
    "numeric_cols = df.select_dtypes(include='number').columns\n",
    "numeric_cols = [col for col in numeric_cols if col.lower() != 'phone']\n",
    "\n",
    "# Initialize list for outlier summary\n",
    "outlier_summary = []\n",
    "outlier_rows = pd.DataFrame()\n",
    "\n",
    "# Detect outliers using IQR method\n",
    "for col in numeric_cols:\n",
    "    Q1 = df[col].quantile(0.25)\n",
    "    Q3 = df[col].quantile(0.75)\n",
    "    IQR = Q3 - Q1\n",
    "    lower = Q1 - 1.5 * IQR\n",
    "    upper = Q3 + 1.5 * IQR\n",
    "\n",
    "    # Get outliers\n",
    "    outliers = df[(df[col] < lower) | (df[col] > upper)]\n",
    "\n",
    "    # Append summary\n",
    "    outlier_summary.append({\n",
    "        \"Column\": col,\n",
    "        \"Q1\": round(Q1, 2),\n",
    "        \"Q3\": round(Q3, 2),\n",
    "        \"IQR\": round(IQR, 2),\n",
    "        \"Lower Bound\": round(lower, 2),\n",
    "        \"Upper Bound\": round(upper, 2),\n",
    "        \"Outlier Count\": len(outliers)\n",
    "    })\n",
    "\n",
    "    # Add outlier rows\n",
    "    outlier_rows = pd.concat([outlier_rows, outliers], ignore_index=True)\n",
    "\n",
    "# Drop duplicates in combined outliers\n",
    "outlier_rows = outlier_rows.drop_duplicates()\n",
    "\n",
    "# Convert summary to DataFrame\n",
    "summary_df = pd.DataFrame(outlier_summary)\n",
    "\n",
    "# Display summary\n",
    "print(\"\\n=== Outlier Summary by Column ===\")\n",
    "print(summary_df)\n",
    "\n",
    "# Save both to CSV\n",
    "summary_df.to_csv(\"Outlier_Summary.csv\", index=False)\n",
    "outlier_rows.to_csv(\"All_Outliers.csv\", index=False)\n",
    "\n",
    "print(\"\\nSaved 'Outlier_Summary.csv' and 'All_Outliers.csv'\")"
   ]
  }
 ],
 "metadata": {
  "kernelspec": {
   "display_name": "dsi_participant",
   "language": "python",
   "name": "python3"
  },
  "language_info": {
   "codemirror_mode": {
    "name": "ipython",
    "version": 3
   },
   "file_extension": ".py",
   "mimetype": "text/x-python",
   "name": "python",
   "nbconvert_exporter": "python",
   "pygments_lexer": "ipython3",
   "version": "3.9.7"
  }
 },
 "nbformat": 4,
 "nbformat_minor": 2
}
